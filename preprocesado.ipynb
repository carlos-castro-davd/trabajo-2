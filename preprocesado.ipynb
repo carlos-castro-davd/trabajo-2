{
 "cells": [
  {
   "cell_type": "code",
   "execution_count": null,
   "metadata": {},
   "outputs": [],
   "source": [
    "import pandas as pd\n",
    "import numpy as np\n",
    "import plotly.graph_objects as go\n",
    "import plotly.express as px\n",
    "import statsmodels.api as sm\n",
    "from plotly.subplots import make_subplots\n",
    "from distutils import util"
   ]
  },
  {
   "cell_type": "code",
   "execution_count": null,
   "metadata": {},
   "outputs": [],
   "source": [
    "# Jaime\n",
    "\n",
    "df_calendar = pd.read_csv(\"/Users/jaime/Documents/ICAI/Quinto/Desarrollo Apps de Visualización/Trabajo/calendar.csv\")\n",
    "df_listings = pd.read_csv(\"/Users/jaime/Documents/ICAI/Quinto/Desarrollo Apps de Visualización/Trabajo/listings.csv\")\n",
    "df_neighbourhoods = pd.read_csv(\"/Users/jaime/Documents/ICAI/Quinto/Desarrollo Apps de Visualización/Trabajo/neighbourhoods.csv\")\n",
    "df_reviews = pd.read_csv(\"/Users/jaime/Documents/ICAI/Quinto/Desarrollo Apps de Visualización/Trabajo/reviews.csv\")\n",
    "df_reviews_det = pd.read_csv(\"/Users/jaime/Documents/ICAI/Quinto/Desarrollo Apps de Visualización/Trabajo/reviews_detailed.csv\")\n",
    "df_listings_det = pd.read_csv(\"/Users/jaime/Documents/ICAI/Quinto/Desarrollo Apps de Visualización/Trabajo/listings_detailed.csv\")"
   ]
  },
  {
   "cell_type": "code",
   "execution_count": null,
   "metadata": {},
   "outputs": [],
   "source": [
    "df_calendar.head()"
   ]
  },
  {
   "cell_type": "code",
   "execution_count": null,
   "metadata": {},
   "outputs": [],
   "source": [
    "df_calendar.isna().sum()"
   ]
  },
  {
   "cell_type": "code",
   "execution_count": null,
   "metadata": {},
   "outputs": [],
   "source": [
    "df_calendar['listing_id'][df_calendar['price'].isna()].unique()"
   ]
  },
  {
   "cell_type": "code",
   "execution_count": null,
   "metadata": {},
   "outputs": [],
   "source": [
    "df_calendar['listing_id'][df_calendar['adjusted_price'].isna()].unique()"
   ]
  },
  {
   "cell_type": "code",
   "execution_count": null,
   "metadata": {},
   "outputs": [],
   "source": [
    "data = [\n",
    "    go.Histogram(\n",
    "        x = df_calendar['price'].unique(),\n",
    "        opacity=0.6,\n",
    "        name = \"Precio\"\n",
    "    )\n",
    "]\n",
    "\n",
    "layout = go.Layout(title = \"Distribución del precio\", xaxis_title = \"Precio\", yaxis_title = \"Frecuencia\",\n",
    "                   barmode = \"overlay\")\n",
    "\n",
    "fig = go.Figure(data = data, layout = layout)\n",
    "\n",
    "fig.show()"
   ]
  },
  {
   "cell_type": "code",
   "execution_count": null,
   "metadata": {},
   "outputs": [],
   "source": [
    "data = [\n",
    "    go.Histogram(\n",
    "        x = df_calendar['adjusted_price'].unique(),\n",
    "        opacity=0.6,\n",
    "        name = \"Precio Ajustado\"\n",
    "    )\n",
    "]\n",
    "\n",
    "layout = go.Layout(title = \"Distribución del precio ajustado\", xaxis_title = \"Precio Ajustado\", yaxis_title = \"Frecuencia\",\n",
    "                   barmode = \"overlay\")\n",
    "\n",
    "fig = go.Figure(data = data, layout = layout)\n",
    "\n",
    "fig.show()"
   ]
  },
  {
   "cell_type": "markdown",
   "metadata": {},
   "source": [
    "Adjusted Price y Price son iguales --> Nos quedamos solo con Price"
   ]
  },
  {
   "cell_type": "code",
   "execution_count": null,
   "metadata": {},
   "outputs": [],
   "source": [
    "df_calendar_v2 = df_calendar.drop(columns=\"adjusted_price\")"
   ]
  },
  {
   "cell_type": "code",
   "execution_count": null,
   "metadata": {},
   "outputs": [],
   "source": [
    "len(df_calendar_v2['listing_id'].unique())"
   ]
  },
  {
   "cell_type": "markdown",
   "metadata": {},
   "source": [
    "De un total de 19617 publicaciones, 10 tienen precio nulo (0,05%). Podemos por tanto eliminar estas publicaciones, ya que constituyen una mínima parte del dataset."
   ]
  },
  {
   "cell_type": "code",
   "execution_count": null,
   "metadata": {},
   "outputs": [],
   "source": [
    "listings_nulos = []\n",
    "for i in range(len(df_calendar_v2['listing_id'][df_calendar_v2['price'].isna()].unique())):\n",
    "  listings_nulos.append(df_calendar_v2['listing_id'][df_calendar_v2['price'].isna()].unique()[i])"
   ]
  },
  {
   "cell_type": "code",
   "execution_count": null,
   "metadata": {},
   "outputs": [],
   "source": [
    "len(df_calendar_v2['listing_id'][df_calendar_v2['maximum_nights'].isna()].unique())"
   ]
  },
  {
   "cell_type": "code",
   "execution_count": null,
   "metadata": {},
   "outputs": [],
   "source": [
    "len(df_calendar_v2['listing_id'][df_calendar_v2['minimum_nights'].isna()].unique())"
   ]
  },
  {
   "cell_type": "markdown",
   "metadata": {},
   "source": [
    "En este caso, el numero de listings es mayor, por lo que imputaremos la mediana como valor de referencia. "
   ]
  },
  {
   "cell_type": "code",
   "execution_count": null,
   "metadata": {},
   "outputs": [],
   "source": [
    "df_calendar_v2['minimum_nights'] = df_calendar_v2['minimum_nights'].fillna(df_calendar_v2['minimum_nights'].median())\n",
    "df_calendar_v2['maximum_nights'] = df_calendar_v2['maximum_nights'].fillna(df_calendar_v2['maximum_nights'].median())"
   ]
  },
  {
   "cell_type": "code",
   "execution_count": null,
   "metadata": {},
   "outputs": [],
   "source": [
    "df_calendar_v2.isna().sum()"
   ]
  },
  {
   "cell_type": "markdown",
   "metadata": {},
   "source": [
    "Únicamente quedan los nulos del precio, los cuales vamos a eliminar."
   ]
  },
  {
   "cell_type": "code",
   "execution_count": null,
   "metadata": {},
   "outputs": [],
   "source": [
    "df_calendar_v3 = df_calendar_v2.dropna()"
   ]
  },
  {
   "cell_type": "code",
   "execution_count": null,
   "metadata": {},
   "outputs": [],
   "source": [
    "df_calendar_v3.isna().sum()"
   ]
  },
  {
   "cell_type": "code",
   "execution_count": null,
   "metadata": {},
   "outputs": [],
   "source": [
    "df_calendar_v3.dtypes"
   ]
  },
  {
   "cell_type": "markdown",
   "metadata": {},
   "source": [
    "Por ultimo, convertimos las variables a sus respectivos tipos, price a float, available a boolean y date a date"
   ]
  },
  {
   "cell_type": "code",
   "execution_count": null,
   "metadata": {},
   "outputs": [],
   "source": [
    "df_calendar_v3['date'] = pd.to_datetime(df_calendar_v3['date'])"
   ]
  },
  {
   "cell_type": "code",
   "execution_count": null,
   "metadata": {},
   "outputs": [],
   "source": [
    "def precio_a_float(x):\n",
    "  if(',' in x):\n",
    "    x = x.replace(',', '')\n",
    "\n",
    "  y = float(x.split('$')[1])\n",
    "  return y"
   ]
  },
  {
   "cell_type": "code",
   "execution_count": null,
   "metadata": {},
   "outputs": [],
   "source": [
    "df_calendar_v3['price'] = df_calendar_v3['price'].apply(lambda x: precio_a_float(x))"
   ]
  },
  {
   "cell_type": "code",
   "execution_count": null,
   "metadata": {},
   "outputs": [],
   "source": [
    "def available_to_bool(x):\n",
    "  y = util.strtobool(x)\n",
    "  return y"
   ]
  },
  {
   "cell_type": "code",
   "execution_count": null,
   "metadata": {},
   "outputs": [],
   "source": [
    "df_calendar_v3['available'] = df_calendar_v3['available'].apply(lambda x: available_to_bool(x))"
   ]
  },
  {
   "cell_type": "code",
   "execution_count": null,
   "metadata": {},
   "outputs": [],
   "source": [
    "df_calendar_vf = df_calendar_v3.copy()"
   ]
  },
  {
   "cell_type": "markdown",
   "metadata": {},
   "source": [
    "# Preprocesado Listings"
   ]
  },
  {
   "cell_type": "code",
   "execution_count": null,
   "metadata": {},
   "outputs": [],
   "source": [
    "df_listings.head()"
   ]
  },
  {
   "cell_type": "code",
   "execution_count": null,
   "metadata": {},
   "outputs": [],
   "source": [
    "df_listings.isna().sum()"
   ]
  },
  {
   "cell_type": "code",
   "execution_count": null,
   "metadata": {},
   "outputs": [],
   "source": [
    "df_listings.dtypes"
   ]
  },
  {
   "cell_type": "markdown",
   "metadata": {},
   "source": [
    "Primero, convertimos last_review a formato date"
   ]
  },
  {
   "cell_type": "code",
   "execution_count": null,
   "metadata": {},
   "outputs": [],
   "source": [
    "df_listings_v2 = df_listings.copy()\n",
    "df_listings_v2['last_review'] = pd.to_datetime(df_listings_v2['last_review'])"
   ]
  },
  {
   "cell_type": "markdown",
   "metadata": {},
   "source": [
    "Por otro lado, la columna host_name, no influencia el precio por lo que no nos aporta información. En el caso de la columna name, al existir unicamente 3 nulos, borraremos dichas filas"
   ]
  },
  {
   "cell_type": "code",
   "execution_count": null,
   "metadata": {},
   "outputs": [],
   "source": [
    "df_listings_v3 = df_listings_v2.drop(columns=\"host_name\")\n",
    "df_listings_v3 = df_listings_v3[df_listings_v3['name'].notna()]"
   ]
  },
  {
   "cell_type": "code",
   "execution_count": null,
   "metadata": {},
   "outputs": [],
   "source": [
    "df_listings_v3.isna().sum()"
   ]
  },
  {
   "cell_type": "markdown",
   "metadata": {},
   "source": [
    "Finalmente, para el caso de reviews per month, se trata de publicaciones sin reviews, por lo que las convertiremos a 0. Para el caso de last_review, tendremos que tomar una decisión"
   ]
  },
  {
   "cell_type": "code",
   "execution_count": null,
   "metadata": {},
   "outputs": [],
   "source": [
    "df_listings_vf = df_listings_v3.copy()\n",
    "df_listings_vf['reviews_per_month'] = df_listings_vf['reviews_per_month'].fillna(0)"
   ]
  },
  {
   "cell_type": "code",
   "execution_count": null,
   "metadata": {},
   "outputs": [],
   "source": [
    "df_listings_vf.head()"
   ]
  },
  {
   "cell_type": "markdown",
   "metadata": {},
   "source": [
    "# Preprocesado Detailed Reviews"
   ]
  },
  {
   "cell_type": "code",
   "execution_count": null,
   "metadata": {},
   "outputs": [],
   "source": [
    "df_reviews_det.isna().sum()"
   ]
  },
  {
   "cell_type": "code",
   "execution_count": null,
   "metadata": {},
   "outputs": [],
   "source": [
    "len(df_reviews_det['comments'])"
   ]
  },
  {
   "cell_type": "markdown",
   "metadata": {},
   "source": [
    "El número de reviews nulos es mínimo, por lo que borraremos dichas reviews\n"
   ]
  },
  {
   "cell_type": "code",
   "execution_count": null,
   "metadata": {},
   "outputs": [],
   "source": [
    "df_reviews_det_vf = df_reviews_det.dropna() \n",
    "df_reviews_det_vf.isna().sum()"
   ]
  },
  {
   "cell_type": "code",
   "execution_count": null,
   "metadata": {},
   "outputs": [],
   "source": [
    "df_reviews_det_vf['date'] = pd.to_datetime(df_reviews_det_vf['date'])\n",
    "df_reviews_det_vf.dtypes"
   ]
  },
  {
   "cell_type": "markdown",
   "metadata": {},
   "source": [
    "# Preprocesado Detailed Listings "
   ]
  },
  {
   "cell_type": "code",
   "execution_count": null,
   "metadata": {},
   "outputs": [],
   "source": [
    "df_listings_det.isna().sum()"
   ]
  },
  {
   "cell_type": "code",
   "execution_count": null,
   "metadata": {},
   "outputs": [],
   "source": [
    "df_listings_det.head()"
   ]
  },
  {
   "cell_type": "markdown",
   "metadata": {},
   "source": [
    "Comenzaremos borrando una serie de variables que no nos proporcionan información: listing_url, scrape_id, last_scraped, neighborhood_overview, picture_url, host_url, host_name, host_thumbnail_url, host_picture_url, neighbourhood, host_neighbourhood, etc."
   ]
  },
  {
   "cell_type": "code",
   "execution_count": null,
   "metadata": {},
   "outputs": [],
   "source": [
    "df_listings_det_v2 = df_listings_det.drop(columns = [\"listing_url\",\"scrape_id\",\"last_scraped\",\n",
    "                                                     \"neighborhood_overview\",\"picture_url\",\"host_url\",\n",
    "                                                     \"host_name\", \"host_since\", \"host_location\",\n",
    "                                                     \"host_thumbnail_url\", \"host_picture_url\",\n",
    "                                                     \"neighbourhood\", \"host_neighbourhood\", \"minimum_minimum_nights\",\n",
    "                                                     \"maximum_minimum_nights\", \"minimum_maximum_nights\", \"maximum_maximum_nights\",\n",
    "                                                     \"minimum_nights_avg_ntm\", \"maximum_nights_avg_ntm\", \"calendar_updated\",\n",
    "                                                     \"calendar_last_scraped\", \"number_of_reviews_ltm\", \"number_of_reviews_l30d\",\n",
    "                                                     \"first_review\", \"last_review\", \"license\", \"calculated_host_listings_count_entire_homes\",\n",
    "                                                     \"calculated_host_listings_count_private_rooms\", \"calculated_host_listings_count_shared_rooms\"])"
   ]
  },
  {
   "cell_type": "code",
   "execution_count": null,
   "metadata": {},
   "outputs": [],
   "source": [
    "df_listings_det_v2.isna().sum()"
   ]
  },
  {
   "cell_type": "markdown",
   "metadata": {},
   "source": [
    "Existen variables con valores nulos para mas del 30% de las filas, por lo que las borraremos"
   ]
  },
  {
   "cell_type": "code",
   "execution_count": null,
   "metadata": {},
   "outputs": [],
   "source": [
    "df_listings_det_v3 = df_listings_det_v2.drop(columns = [\"review_scores_rating\", \"review_scores_accuracy\", \"review_scores_cleanliness\",\n",
    "                                                        \"review_scores_checkin\", \"review_scores_communication\", \"review_scores_location\",\n",
    "                                                        \"review_scores_value\", \"host_about\", \"host_response_time\", \"host_response_rate\",\n",
    "                                                        \"host_acceptance_rate\"])"
   ]
  },
  {
   "cell_type": "code",
   "execution_count": null,
   "metadata": {},
   "outputs": [],
   "source": [
    "df_listings_det_v3['reviews_per_month'] = df_listings_det_v3['reviews_per_month'].fillna(0)\n",
    "df_listings_det_v3 = df_listings_det_v3[df_listings_det_v3['bedrooms'].notna()]\n",
    "df_listings_det_v3 = df_listings_det_v3[df_listings_det_v3['beds'].notna()]\n",
    "df_listings_det_v3 = df_listings_det_v3[df_listings_det_v3['bathrooms_text'].notna()]\n",
    "df_listings_det_v3 = df_listings_det_v3[df_listings_det_v3['name'].notna()]\n",
    "df_listings_det_v3 = df_listings_det_v3[df_listings_det_v3['description'].notna()]\n",
    "df_listings_det_v3 = df_listings_det_v3[df_listings_det_v3['host_has_profile_pic'].notna()]"
   ]
  },
  {
   "cell_type": "code",
   "execution_count": null,
   "metadata": {},
   "outputs": [],
   "source": [
    "df_listings_det_v3.isna().sum()"
   ]
  },
  {
   "cell_type": "code",
   "execution_count": null,
   "metadata": {},
   "outputs": [],
   "source": [
    "def bathrooms_float(x):\n",
    "  try:\n",
    "    y = float(x.split(' ')[0])\n",
    "  except:\n",
    "    y = \"Nan\"\n",
    "  return y"
   ]
  },
  {
   "cell_type": "code",
   "execution_count": null,
   "metadata": {},
   "outputs": [],
   "source": [
    "df_listings_det_v3['bathrooms'] = df_listings_det_v3['bathrooms_text'].apply(lambda x: bathrooms_float(x))"
   ]
  },
  {
   "cell_type": "code",
   "execution_count": null,
   "metadata": {},
   "outputs": [],
   "source": [
    "df_listings_det_v3['bathrooms'][df_listings_det_v3['bathrooms'] == \"Nan\"].count()"
   ]
  },
  {
   "cell_type": "code",
   "execution_count": null,
   "metadata": {},
   "outputs": [],
   "source": [
    "df_listings_det_vf = df_listings_det_v3[df_listings_det_v3['bathrooms'] != \"Nan\"]"
   ]
  },
  {
   "cell_type": "code",
   "execution_count": null,
   "metadata": {},
   "outputs": [],
   "source": [
    "df_listings_det_vf.isna().sum()"
   ]
  }
 ],
 "metadata": {
  "language_info": {
   "name": "python"
  },
  "orig_nbformat": 4
 },
 "nbformat": 4,
 "nbformat_minor": 2
}
