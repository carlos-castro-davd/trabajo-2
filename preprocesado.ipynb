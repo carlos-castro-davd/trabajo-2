{
 "cells": [
  {
   "cell_type": "code",
   "execution_count": null,
   "metadata": {},
   "outputs": [],
   "source": [
    "import pandas as pd\n",
    "import numpy as np\n",
    "import plotly.graph_objects as go\n",
    "import plotly.express as px\n",
    "import statsmodels.api as sm\n",
    "from plotly.subplots import make_subplots"
   ]
  },
  {
   "cell_type": "code",
   "execution_count": null,
   "metadata": {},
   "outputs": [],
   "source": [
    "# Jaime\n",
    "\n",
    "df_calendar = pd.read_csv(\"/Users/jaime/Documents/ICAI/Quinto/Desarrollo Apps de Visualización/Trabajo/calendar.csv\")\n",
    "df_listings = pd.read_csv(\"/Users/jaime/Documents/ICAI/Quinto/Desarrollo Apps de Visualización/Trabajo/listings.csv\")\n",
    "df_neighbourhoods = pd.read_csv(\"/Users/jaime/Documents/ICAI/Quinto/Desarrollo Apps de Visualización/Trabajo/neighbourhoods.csv\")\n",
    "df_reviews = pd.read_csv(\"/Users/jaime/Documents/ICAI/Quinto/Desarrollo Apps de Visualización/Trabajo/reviews.csv\")\n",
    "df_reviews_det = pd.read_csv(\"/Users/jaime/Documents/ICAI/Quinto/Desarrollo Apps de Visualización/Trabajo/reviews_detailed.csv\")\n",
    "df_listings_det = pd.read_csv(\"/Users/jaime/Documents/ICAI/Quinto/Desarrollo Apps de Visualización/Trabajo/listings_detailed.csv\")"
   ]
  },
  {
   "cell_type": "code",
   "execution_count": null,
   "metadata": {},
   "outputs": [],
   "source": [
    "df_calendar.head()"
   ]
  },
  {
   "cell_type": "code",
   "execution_count": null,
   "metadata": {},
   "outputs": [],
   "source": [
    "df_calendar.isna().sum()"
   ]
  },
  {
   "cell_type": "code",
   "execution_count": null,
   "metadata": {},
   "outputs": [],
   "source": [
    "df_calendar['listing_id'][df_calendar['price'].isna()].unique()"
   ]
  },
  {
   "cell_type": "code",
   "execution_count": null,
   "metadata": {},
   "outputs": [],
   "source": [
    "df_calendar['listing_id'][df_calendar['adjusted_price'].isna()].unique()"
   ]
  },
  {
   "cell_type": "code",
   "execution_count": null,
   "metadata": {},
   "outputs": [],
   "source": [
    "data = [\n",
    "    go.Histogram(\n",
    "        x = df_calendar['price'].unique(),\n",
    "        opacity=0.6,\n",
    "        name = \"Precio\"\n",
    "    )\n",
    "]\n",
    "\n",
    "layout = go.Layout(title = \"Distribución del precio\", xaxis_title = \"Precio\", yaxis_title = \"Frecuencia\",\n",
    "                   barmode = \"overlay\")\n",
    "\n",
    "fig = go.Figure(data = data, layout = layout)\n",
    "\n",
    "fig.show()"
   ]
  },
  {
   "cell_type": "code",
   "execution_count": null,
   "metadata": {},
   "outputs": [],
   "source": [
    "data = [\n",
    "    go.Histogram(\n",
    "        x = df_calendar['adjusted_price'].unique(),\n",
    "        opacity=0.6,\n",
    "        name = \"Precio Ajustado\"\n",
    "    )\n",
    "]\n",
    "\n",
    "layout = go.Layout(title = \"Distribución del precio\", xaxis_title = \"Precio\", yaxis_title = \"Frecuencia\",\n",
    "                   barmode = \"overlay\")\n",
    "\n",
    "fig = go.Figure(data = data, layout = layout)\n",
    "\n",
    "fig.show()"
   ]
  },
  {
   "cell_type": "markdown",
   "metadata": {},
   "source": [
    "Adjusted Price y Price son iguales --> Nos quedamos solo con Price"
   ]
  },
  {
   "cell_type": "code",
   "execution_count": null,
   "metadata": {},
   "outputs": [],
   "source": [
    "df_calendar_v2 = df_calendar.drop(columns=\"adjusted_price\")"
   ]
  },
  {
   "cell_type": "code",
   "execution_count": null,
   "metadata": {},
   "outputs": [],
   "source": [
    "len(df_calendar_v2['listing_id'].unique())"
   ]
  },
  {
   "cell_type": "markdown",
   "metadata": {},
   "source": [
    "De un total de 19617 publicaciones, 10 tienen precio nulo (0,05%). Podemos por tanto eliminar estas publicaciones, ya que constituyen una mínima parte del dataset."
   ]
  },
  {
   "cell_type": "code",
   "execution_count": null,
   "metadata": {},
   "outputs": [],
   "source": [
    "listings_nulos = []\n",
    "for i in range(len(df_calendar_v2['listing_id'][df_calendar_v2['price'].isna()].unique())):\n",
    "  listings_nulos.append(df_calendar_v2['listing_id'][df_calendar_v2['price'].isna()].unique()[i])"
   ]
  },
  {
   "cell_type": "code",
   "execution_count": null,
   "metadata": {},
   "outputs": [],
   "source": [
    "len(df_calendar_v2['listing_id'][df_calendar_v2['maximum_nights'].isna()].unique())"
   ]
  },
  {
   "cell_type": "code",
   "execution_count": null,
   "metadata": {},
   "outputs": [],
   "source": [
    "len(df_calendar_v2['listing_id'][df_calendar_v2['minimum_nights'].isna()].unique())"
   ]
  },
  {
   "cell_type": "markdown",
   "metadata": {},
   "source": [
    "En este caso, el numero de listings es mayor, por lo que imputaremos la mediana como valor de referencia. "
   ]
  },
  {
   "cell_type": "code",
   "execution_count": null,
   "metadata": {},
   "outputs": [],
   "source": [
    "df_calendar_v2['minimum_nights'] = df_calendar_v2['minimum_nights'].fillna(df_calendar_v2['minimum_nights'].median())\n",
    "df_calendar_v2['maximum_nights'] = df_calendar_v2['maximum_nights'].fillna(df_calendar_v2['maximum_nights'].median())"
   ]
  },
  {
   "cell_type": "code",
   "execution_count": null,
   "metadata": {},
   "outputs": [],
   "source": [
    "df_calendar_v2.isna().sum()"
   ]
  },
  {
   "cell_type": "markdown",
   "metadata": {},
   "source": [
    "Únicamente quedan los nulos del precio, los cuales vamos a eliminar."
   ]
  },
  {
   "cell_type": "code",
   "execution_count": null,
   "metadata": {},
   "outputs": [],
   "source": [
    "df_calendar_v3 = df_calendar_v2.dropna()"
   ]
  },
  {
   "cell_type": "code",
   "execution_count": null,
   "metadata": {},
   "outputs": [],
   "source": [
    "df_calendar_v3.isna().sum()"
   ]
  },
  {
   "cell_type": "code",
   "execution_count": null,
   "metadata": {},
   "outputs": [],
   "source": [
    "df_calendar_v3.dtypes"
   ]
  },
  {
   "cell_type": "markdown",
   "metadata": {},
   "source": [
    "Por ultimo, convertimos las variables a sus respectivos tipos, price a float, available a boolean y date a date"
   ]
  }
 ],
 "metadata": {
  "language_info": {
   "name": "python"
  },
  "orig_nbformat": 4
 },
 "nbformat": 4,
 "nbformat_minor": 2
}
