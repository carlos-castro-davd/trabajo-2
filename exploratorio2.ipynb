{
 "cells": [
  {
   "cell_type": "markdown",
   "metadata": {},
   "source": [
    "## Exploratorio de datos 2\n",
    "\n",
    "### Analytics AirBnb Madrid\n",
    "\n",
    "#### Diego Martinez de Aspe and Jaime Reglero\n",
    "\n",
    "Index:\n",
    "<br>&nbsp;&nbsp;&nbsp;&nbsp;1 - Location and geographical analysis<br>&nbsp;&nbsp;&nbsp;&nbsp;2 - Time evolution analysis<br>&nbsp;&nbsp;&nbsp;&nbsp;3 - "
   ]
  },
  {
   "cell_type": "code",
   "execution_count": 10,
   "metadata": {},
   "outputs": [],
   "source": [
    "# Notebook booting\n",
    "\n",
    "import pandas as pd\n",
    "import numpy as np\n",
    "import matplotlib.pyplot as plt\n",
    "import statsmodels.api as sm\n",
    "import plotly.express as px\n",
    "\n",
    "from plotly.subplots import make_subplots\n",
    "\n",
    "calendar = pd.read_csv(\"/Users/diegoma/kaggle/calendar.csv\")\n",
    "listings = pd.read_csv(\"/Users/diegoma/kaggle/listings.csv\")\n",
    "neighbourhoods = pd.read_csv(\"/Users/diegoma/kaggle/neighbourhoods.csv\")\n",
    "reviews = pd.read_csv(\"/Users/diegoma/kaggle/reviews.csv\")\n",
    "reviews_det = pd.read_csv(\"/Users/diegoma/kaggle/reviews_detailed.csv\")\n",
    "listings_det = pd.read_csv(\"/Users/diegoma/kaggle/listings_detailed.csv\")\n",
    "\n",
    "df_calendar = pd.DataFrame(data = calendar)\n",
    "df_listings = pd.DataFrame(data = listings)\n",
    "df_neighbourhoods = pd.DataFrame(data = neighbourhoods)\n",
    "df_reviews = pd.DataFrame(data = reviews)\n",
    "df_reviews_det = pd.DataFrame(data = reviews_det)\n",
    "df_listings_det = pd.DataFrame(data = listings_det)\n"
   ]
  },
  {
   "cell_type": "markdown",
   "metadata": {},
   "source": [
    "### Part One: Locations"
   ]
  },
  {
   "cell_type": "code",
   "execution_count": 27,
   "metadata": {},
   "outputs": [],
   "source": [
    "df_listings_det = df_listings_det.drop(axis=1, columns=[\n",
    "    'listing_url','scrape_id','last_scraped','name','description','host_url','host_name','host_about','host_thumbnail_url','host_picture_url','bathrooms','bathrooms_text',\n",
    "    'calendar_updated', 'first_review', 'last_review', 'license'\n",
    "])\n",
    "df_listings_det = df_listings_det.set_index('id')"
   ]
  },
  {
   "cell_type": "code",
   "execution_count": null,
   "metadata": {},
   "outputs": [],
   "source": []
  }
 ],
 "metadata": {
  "interpreter": {
   "hash": "aee8b7b246df8f9039afb4144a1f6fd8d2ca17a180786b69acc140d282b71a49"
  },
  "kernelspec": {
   "display_name": "Python 3.9.5 64-bit",
   "language": "python",
   "name": "python3"
  },
  "language_info": {
   "codemirror_mode": {
    "name": "ipython",
    "version": 3
   },
   "file_extension": ".py",
   "mimetype": "text/x-python",
   "name": "python",
   "nbconvert_exporter": "python",
   "pygments_lexer": "ipython3",
   "version": "3.9.5"
  },
  "orig_nbformat": 4
 },
 "nbformat": 4,
 "nbformat_minor": 2
}
