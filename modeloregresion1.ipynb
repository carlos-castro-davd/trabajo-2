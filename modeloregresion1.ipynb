{
 "cells": [
  {
   "cell_type": "code",
   "execution_count": 25,
   "metadata": {},
   "outputs": [],
   "source": [
    "# Librerias\n",
    "\n",
    "import pandas as pd\n",
    "import numpy as np\n",
    "import matplotlib.pyplot as plt\n",
    "import statsmodels.api as sm\n",
    "\n",
    "from sklearn.model_selection import train_test_split\n",
    "from sklearn.linear_model import LinearRegression\n",
    "from sklearn.metrics import mean_squared_error, r2_score\n",
    "from statsmodels.stats.outliers_influence import variance_inflation_factor"
   ]
  },
  {
   "cell_type": "code",
   "execution_count": 7,
   "metadata": {},
   "outputs": [],
   "source": [
    "# Diego\n",
    "\n",
    "df_calendar = pd.read_csv(\"/Users/diegoma/kaggle/calendar.csv\")\n",
    "df_listings = pd.read_csv(\"/Users/diegoma/kaggle/listings.csv\")\n",
    "df_neighbourhoods = pd.read_csv(\"/Users/diegoma/kaggle/neighbourhoods.csv\")\n",
    "df_reviews = pd.read_csv(\"/Users/diegoma/kaggle/reviews.csv\")\n",
    "df_reviews_det = pd.read_csv(\"/Users/diegoma/kaggle/reviews_detailed.csv\")\n",
    "df_listings_det = pd.read_csv(\"/Users/diegoma/kaggle/listings_detailed.csv\")"
   ]
  },
  {
   "cell_type": "code",
   "execution_count": 12,
   "metadata": {},
   "outputs": [
    {
     "data": {
      "text/html": [
       "<div>\n",
       "<style scoped>\n",
       "    .dataframe tbody tr th:only-of-type {\n",
       "        vertical-align: middle;\n",
       "    }\n",
       "\n",
       "    .dataframe tbody tr th {\n",
       "        vertical-align: top;\n",
       "    }\n",
       "\n",
       "    .dataframe thead th {\n",
       "        text-align: right;\n",
       "    }\n",
       "</style>\n",
       "<table border=\"1\" class=\"dataframe\">\n",
       "  <thead>\n",
       "    <tr style=\"text-align: right;\">\n",
       "      <th></th>\n",
       "      <th>listing_id</th>\n",
       "      <th>date</th>\n",
       "      <th>available</th>\n",
       "      <th>price</th>\n",
       "      <th>adjusted_price</th>\n",
       "      <th>minimum_nights</th>\n",
       "      <th>maximum_nights</th>\n",
       "    </tr>\n",
       "  </thead>\n",
       "  <tbody>\n",
       "    <tr>\n",
       "      <th>0</th>\n",
       "      <td>167183</td>\n",
       "      <td>2021-04-15</td>\n",
       "      <td>f</td>\n",
       "      <td>$45.00</td>\n",
       "      <td>$45.00</td>\n",
       "      <td>1.0</td>\n",
       "      <td>5.0</td>\n",
       "    </tr>\n",
       "  </tbody>\n",
       "</table>\n",
       "</div>"
      ],
      "text/plain": [
       "   listing_id        date available   price adjusted_price  minimum_nights  \\\n",
       "0      167183  2021-04-15         f  $45.00         $45.00             1.0   \n",
       "\n",
       "   maximum_nights  \n",
       "0             5.0  "
      ]
     },
     "execution_count": 12,
     "metadata": {},
     "output_type": "execute_result"
    }
   ],
   "source": [
    "df_calendar.head(1)"
   ]
  },
  {
   "cell_type": "code",
   "execution_count": 31,
   "metadata": {},
   "outputs": [
    {
     "data": {
      "text/html": [
       "<div>\n",
       "<style scoped>\n",
       "    .dataframe tbody tr th:only-of-type {\n",
       "        vertical-align: middle;\n",
       "    }\n",
       "\n",
       "    .dataframe tbody tr th {\n",
       "        vertical-align: top;\n",
       "    }\n",
       "\n",
       "    .dataframe thead th {\n",
       "        text-align: right;\n",
       "    }\n",
       "</style>\n",
       "<table border=\"1\" class=\"dataframe\">\n",
       "  <thead>\n",
       "    <tr style=\"text-align: right;\">\n",
       "      <th></th>\n",
       "      <th>id</th>\n",
       "      <th>name</th>\n",
       "      <th>host_id</th>\n",
       "      <th>host_name</th>\n",
       "      <th>neighbourhood_group</th>\n",
       "      <th>neighbourhood</th>\n",
       "      <th>latitude</th>\n",
       "      <th>longitude</th>\n",
       "      <th>room_type</th>\n",
       "      <th>price</th>\n",
       "      <th>minimum_nights</th>\n",
       "      <th>number_of_reviews</th>\n",
       "      <th>last_review</th>\n",
       "      <th>reviews_per_month</th>\n",
       "      <th>calculated_host_listings_count</th>\n",
       "      <th>availability_365</th>\n",
       "    </tr>\n",
       "  </thead>\n",
       "  <tbody>\n",
       "    <tr>\n",
       "      <th>0</th>\n",
       "      <td>6369</td>\n",
       "      <td>Rooftop terrace room ,  ensuite bathroom</td>\n",
       "      <td>13660</td>\n",
       "      <td>Simon</td>\n",
       "      <td>Chamartín</td>\n",
       "      <td>Hispanoamérica</td>\n",
       "      <td>40.45724</td>\n",
       "      <td>-3.67688</td>\n",
       "      <td>Private room</td>\n",
       "      <td>60</td>\n",
       "      <td>1</td>\n",
       "      <td>78</td>\n",
       "      <td>2020-09-20</td>\n",
       "      <td>0.58</td>\n",
       "      <td>1</td>\n",
       "      <td>180</td>\n",
       "    </tr>\n",
       "  </tbody>\n",
       "</table>\n",
       "</div>"
      ],
      "text/plain": [
       "     id                                      name  host_id host_name  \\\n",
       "0  6369  Rooftop terrace room ,  ensuite bathroom    13660     Simon   \n",
       "\n",
       "  neighbourhood_group   neighbourhood  latitude  longitude     room_type  \\\n",
       "0           Chamartín  Hispanoamérica  40.45724   -3.67688  Private room   \n",
       "\n",
       "   price  minimum_nights  number_of_reviews last_review  reviews_per_month  \\\n",
       "0     60               1                 78  2020-09-20               0.58   \n",
       "\n",
       "   calculated_host_listings_count  availability_365  \n",
       "0                               1               180  "
      ]
     },
     "execution_count": 31,
     "metadata": {},
     "output_type": "execute_result"
    }
   ],
   "source": [
    "df_listings.head(1)"
   ]
  },
  {
   "cell_type": "code",
   "execution_count": 20,
   "metadata": {},
   "outputs": [
    {
     "data": {
      "text/html": [
       "<div>\n",
       "<style scoped>\n",
       "    .dataframe tbody tr th:only-of-type {\n",
       "        vertical-align: middle;\n",
       "    }\n",
       "\n",
       "    .dataframe tbody tr th {\n",
       "        vertical-align: top;\n",
       "    }\n",
       "\n",
       "    .dataframe thead th {\n",
       "        text-align: right;\n",
       "    }\n",
       "</style>\n",
       "<table border=\"1\" class=\"dataframe\">\n",
       "  <thead>\n",
       "    <tr style=\"text-align: right;\">\n",
       "      <th></th>\n",
       "      <th>id</th>\n",
       "      <th>listing_url</th>\n",
       "      <th>scrape_id</th>\n",
       "      <th>last_scraped</th>\n",
       "      <th>name</th>\n",
       "      <th>description</th>\n",
       "      <th>neighborhood_overview</th>\n",
       "      <th>picture_url</th>\n",
       "      <th>host_id</th>\n",
       "      <th>host_url</th>\n",
       "      <th>...</th>\n",
       "      <th>review_scores_communication</th>\n",
       "      <th>review_scores_location</th>\n",
       "      <th>review_scores_value</th>\n",
       "      <th>license</th>\n",
       "      <th>instant_bookable</th>\n",
       "      <th>calculated_host_listings_count</th>\n",
       "      <th>calculated_host_listings_count_entire_homes</th>\n",
       "      <th>calculated_host_listings_count_private_rooms</th>\n",
       "      <th>calculated_host_listings_count_shared_rooms</th>\n",
       "      <th>reviews_per_month</th>\n",
       "    </tr>\n",
       "  </thead>\n",
       "  <tbody>\n",
       "    <tr>\n",
       "      <th>0</th>\n",
       "      <td>6369</td>\n",
       "      <td>https://www.airbnb.com/rooms/6369</td>\n",
       "      <td>20210413152844</td>\n",
       "      <td>2021-04-15</td>\n",
       "      <td>Rooftop terrace room ,  ensuite bathroom</td>\n",
       "      <td>Excellent connection with the AIRPORT and EXHI...</td>\n",
       "      <td>NaN</td>\n",
       "      <td>https://a0.muscache.com/pictures/683224/4cc318...</td>\n",
       "      <td>13660</td>\n",
       "      <td>https://www.airbnb.com/users/show/13660</td>\n",
       "      <td>...</td>\n",
       "      <td>10.0</td>\n",
       "      <td>10.0</td>\n",
       "      <td>10.0</td>\n",
       "      <td>NaN</td>\n",
       "      <td>f</td>\n",
       "      <td>1</td>\n",
       "      <td>0</td>\n",
       "      <td>1</td>\n",
       "      <td>0</td>\n",
       "      <td>0.58</td>\n",
       "    </tr>\n",
       "  </tbody>\n",
       "</table>\n",
       "<p>1 rows × 74 columns</p>\n",
       "</div>"
      ],
      "text/plain": [
       "     id                        listing_url       scrape_id last_scraped  \\\n",
       "0  6369  https://www.airbnb.com/rooms/6369  20210413152844   2021-04-15   \n",
       "\n",
       "                                       name  \\\n",
       "0  Rooftop terrace room ,  ensuite bathroom   \n",
       "\n",
       "                                         description neighborhood_overview  \\\n",
       "0  Excellent connection with the AIRPORT and EXHI...                   NaN   \n",
       "\n",
       "                                         picture_url  host_id  \\\n",
       "0  https://a0.muscache.com/pictures/683224/4cc318...    13660   \n",
       "\n",
       "                                  host_url  ... review_scores_communication  \\\n",
       "0  https://www.airbnb.com/users/show/13660  ...                        10.0   \n",
       "\n",
       "  review_scores_location review_scores_value license instant_bookable  \\\n",
       "0                   10.0                10.0     NaN                f   \n",
       "\n",
       "  calculated_host_listings_count calculated_host_listings_count_entire_homes  \\\n",
       "0                              1                                           0   \n",
       "\n",
       "  calculated_host_listings_count_private_rooms  \\\n",
       "0                                            1   \n",
       "\n",
       "  calculated_host_listings_count_shared_rooms reviews_per_month  \n",
       "0                                           0              0.58  \n",
       "\n",
       "[1 rows x 74 columns]"
      ]
     },
     "execution_count": 20,
     "metadata": {},
     "output_type": "execute_result"
    }
   ],
   "source": [
    "df_listings_det.head(1)"
   ]
  },
  {
   "cell_type": "code",
   "execution_count": 23,
   "metadata": {},
   "outputs": [
    {
     "data": {
      "text/plain": [
       "21"
      ]
     },
     "execution_count": 23,
     "metadata": {},
     "output_type": "execute_result"
    }
   ],
   "source": [
    "len(df_neighbourhoods[\"neighbourhood_group\"].unique())"
   ]
  },
  {
   "cell_type": "code",
   "execution_count": 24,
   "metadata": {},
   "outputs": [
    {
     "data": {
      "text/plain": [
       "128"
      ]
     },
     "execution_count": 24,
     "metadata": {},
     "output_type": "execute_result"
    }
   ],
   "source": [
    "len(df_neighbourhoods[\"neighbourhood\"].unique())"
   ]
  },
  {
   "cell_type": "code",
   "execution_count": 77,
   "metadata": {},
   "outputs": [
    {
     "data": {
      "text/plain": [
       "array(['Private room', 'Entire home/apt', 'Shared room', 'Hotel room'],\n",
       "      dtype=object)"
      ]
     },
     "execution_count": 77,
     "metadata": {},
     "output_type": "execute_result"
    }
   ],
   "source": [
    "df_listings['room_type'].unique()"
   ]
  },
  {
   "cell_type": "code",
   "execution_count": 3,
   "metadata": {},
   "outputs": [],
   "source": [
    "df_listings = pd.read_csv(\"/Users/diegoma/kaggle/listings.csv\")"
   ]
  },
  {
   "cell_type": "code",
   "execution_count": 4,
   "metadata": {},
   "outputs": [],
   "source": [
    "df = pd.DataFrame(data = df_listings)"
   ]
  },
  {
   "cell_type": "code",
   "execution_count": 4,
   "metadata": {},
   "outputs": [],
   "source": [
    "# Modelo de regresion lineal: df_listings\n",
    "# Target = 'price'\n",
    "\n",
    "# Preparar dataset\n",
    "df = df.drop(['name','host_name','last_review'], axis = 1)\n",
    "df.neighbourhood = df.neighbourhood.astype(\"category\")\n",
    "df.neighbourhood_group = df.neighbourhood_group.astype(\"category\")\n",
    "df.room_type = df.room_type.astype(\"category\")\n",
    "\n",
    "# Dividir train-test\n",
    "X = df.drop(['price'], axis = 1)\n",
    "y = df['price']\n",
    "X_train, X_test, y_train, y_test = train_test_split(X, y ,test_size = 0.3, random_state = 123)"
   ]
  },
  {
   "cell_type": "code",
   "execution_count": 5,
   "metadata": {},
   "outputs": [
    {
     "data": {
      "text/plain": [
       "id                                   int64\n",
       "host_id                              int64\n",
       "neighbourhood_group               category\n",
       "neighbourhood                     category\n",
       "latitude                           float64\n",
       "longitude                          float64\n",
       "room_type                         category\n",
       "price                                int64\n",
       "minimum_nights                       int64\n",
       "number_of_reviews                    int64\n",
       "reviews_per_month                  float64\n",
       "calculated_host_listings_count       int64\n",
       "availability_365                     int64\n",
       "dtype: object"
      ]
     },
     "execution_count": 5,
     "metadata": {},
     "output_type": "execute_result"
    }
   ],
   "source": [
    "df.dtypes"
   ]
  },
  {
   "cell_type": "code",
   "execution_count": 47,
   "metadata": {},
   "outputs": [],
   "source": [
    "#\n",
    "#\n",
    "#\n",
    "# --------------------------------------------------------------------------------------------------------------------------------------------------------------------------\n",
    "\n",
    "df_listings = pd.read_csv(\"/Users/diegoma/kaggle/listings.csv\")"
   ]
  },
  {
   "cell_type": "code",
   "execution_count": 48,
   "metadata": {},
   "outputs": [],
   "source": [
    "# Creacion del dataset mejorado numerico para el modelo de regresion lineal\n",
    "\n",
    "df = pd.DataFrame(data = df_listings)\n",
    "df = df.set_index('id')\n",
    "df = df.drop(['name', 'host_id', 'host_name', 'last_review'], axis = 1)"
   ]
  },
  {
   "cell_type": "code",
   "execution_count": 49,
   "metadata": {},
   "outputs": [],
   "source": [
    "# Transformacion del categorical data en numerico\n",
    "# Dos opciones:\n",
    "# 1. valor numerico 1 - len(categoria) para cada variable categorica\n",
    "# 2. dummie variables (one hot encoding), pero son demasiadas categorias menos para room_type\n",
    "\n",
    "df['neighbourhood'] = df['neighbourhood'].astype('category')\n",
    "df['neighbourhood'] = df['neighbourhood'].cat.reorder_categories(df[\"neighbourhood\"].unique(), ordered = True)\n",
    "df['neighbourhood'] = df['neighbourhood'].cat.codes\n",
    "\n",
    "df['neighbourhood_group'] = df['neighbourhood_group'].astype('category')\n",
    "df['neighbourhood_group'] = df['neighbourhood_group'].cat.reorder_categories(df[\"neighbourhood_group\"].unique(), ordered = True)\n",
    "df['neighbourhood_group'] = df['neighbourhood_group'].cat.codes\n",
    "\n",
    "# Esto si funciona"
   ]
  },
  {
   "cell_type": "code",
   "execution_count": 45,
   "metadata": {},
   "outputs": [
    {
     "data": {
      "text/html": [
       "<div>\n",
       "<style scoped>\n",
       "    .dataframe tbody tr th:only-of-type {\n",
       "        vertical-align: middle;\n",
       "    }\n",
       "\n",
       "    .dataframe tbody tr th {\n",
       "        vertical-align: top;\n",
       "    }\n",
       "\n",
       "    .dataframe thead th {\n",
       "        text-align: right;\n",
       "    }\n",
       "</style>\n",
       "<table border=\"1\" class=\"dataframe\">\n",
       "  <thead>\n",
       "    <tr style=\"text-align: right;\">\n",
       "      <th></th>\n",
       "      <th>neighbourhood_group</th>\n",
       "      <th>neighbourhood</th>\n",
       "      <th>latitude</th>\n",
       "      <th>longitude</th>\n",
       "      <th>price</th>\n",
       "      <th>minimum_nights</th>\n",
       "      <th>number_of_reviews</th>\n",
       "      <th>reviews_per_month</th>\n",
       "      <th>calculated_host_listings_count</th>\n",
       "      <th>availability_365</th>\n",
       "      <th>Entire home/apt</th>\n",
       "      <th>Hotel room</th>\n",
       "      <th>Private room</th>\n",
       "      <th>Shared room</th>\n",
       "    </tr>\n",
       "    <tr>\n",
       "      <th>id</th>\n",
       "      <th></th>\n",
       "      <th></th>\n",
       "      <th></th>\n",
       "      <th></th>\n",
       "      <th></th>\n",
       "      <th></th>\n",
       "      <th></th>\n",
       "      <th></th>\n",
       "      <th></th>\n",
       "      <th></th>\n",
       "      <th></th>\n",
       "      <th></th>\n",
       "      <th></th>\n",
       "      <th></th>\n",
       "    </tr>\n",
       "  </thead>\n",
       "  <tbody>\n",
       "    <tr>\n",
       "      <th>6369</th>\n",
       "      <td>0</td>\n",
       "      <td>0</td>\n",
       "      <td>40.45724</td>\n",
       "      <td>-3.67688</td>\n",
       "      <td>60</td>\n",
       "      <td>1</td>\n",
       "      <td>78</td>\n",
       "      <td>0.58</td>\n",
       "      <td>1</td>\n",
       "      <td>180</td>\n",
       "      <td>0</td>\n",
       "      <td>0</td>\n",
       "      <td>1</td>\n",
       "      <td>0</td>\n",
       "    </tr>\n",
       "  </tbody>\n",
       "</table>\n",
       "</div>"
      ],
      "text/plain": [
       "      neighbourhood_group  neighbourhood  latitude  longitude  price  \\\n",
       "id                                                                     \n",
       "6369                    0              0  40.45724   -3.67688     60   \n",
       "\n",
       "      minimum_nights  number_of_reviews  reviews_per_month  \\\n",
       "id                                                           \n",
       "6369               1                 78               0.58   \n",
       "\n",
       "      calculated_host_listings_count  availability_365  Entire home/apt  \\\n",
       "id                                                                        \n",
       "6369                               1               180                0   \n",
       "\n",
       "      Hotel room  Private room  Shared room  \n",
       "id                                           \n",
       "6369           0             1            0  "
      ]
     },
     "execution_count": 45,
     "metadata": {},
     "output_type": "execute_result"
    }
   ],
   "source": [
    "# One hot encoding para room_type\n",
    "df_tool = pd.get_dummies(df['room_type'])\n",
    "df = df.drop(['room_type'], axis = 1)\n",
    "\n",
    "df['Entire home/apt'] = pd.Series(df_tool['Entire home/apt'], index=df.index)\n",
    "df['Hotel room'] = pd.Series(df_tool['Hotel room'], index=df.index)\n",
    "df['Private room'] = pd.Series(df_tool['Private room'], index=df.index)\n",
    "df['Shared room'] = pd.Series(df_tool['Shared room'], index=df.index)\n",
    "\n",
    "df.head(1)"
   ]
  },
  {
   "cell_type": "code",
   "execution_count": 50,
   "metadata": {},
   "outputs": [],
   "source": [
    "# Valor numerico categorico para room_type (One-Hot no parece funcionar)\n",
    "df['room_type'] = df['room_type'].astype('category')\n",
    "df['room_type'] = df['room_type'].cat.reorder_categories(df[\"room_type\"].unique(), ordered = True)\n",
    "df['room_type'] = df['room_type'].cat.codes"
   ]
  },
  {
   "cell_type": "code",
   "execution_count": 51,
   "metadata": {},
   "outputs": [
    {
     "data": {
      "text/html": [
       "<div>\n",
       "<style scoped>\n",
       "    .dataframe tbody tr th:only-of-type {\n",
       "        vertical-align: middle;\n",
       "    }\n",
       "\n",
       "    .dataframe tbody tr th {\n",
       "        vertical-align: top;\n",
       "    }\n",
       "\n",
       "    .dataframe thead th {\n",
       "        text-align: right;\n",
       "    }\n",
       "</style>\n",
       "<table border=\"1\" class=\"dataframe\">\n",
       "  <thead>\n",
       "    <tr style=\"text-align: right;\">\n",
       "      <th></th>\n",
       "      <th>neighbourhood_group</th>\n",
       "      <th>neighbourhood</th>\n",
       "      <th>latitude</th>\n",
       "      <th>longitude</th>\n",
       "      <th>room_type</th>\n",
       "      <th>price</th>\n",
       "      <th>minimum_nights</th>\n",
       "      <th>number_of_reviews</th>\n",
       "      <th>reviews_per_month</th>\n",
       "      <th>calculated_host_listings_count</th>\n",
       "      <th>availability_365</th>\n",
       "    </tr>\n",
       "    <tr>\n",
       "      <th>id</th>\n",
       "      <th></th>\n",
       "      <th></th>\n",
       "      <th></th>\n",
       "      <th></th>\n",
       "      <th></th>\n",
       "      <th></th>\n",
       "      <th></th>\n",
       "      <th></th>\n",
       "      <th></th>\n",
       "      <th></th>\n",
       "      <th></th>\n",
       "    </tr>\n",
       "  </thead>\n",
       "  <tbody>\n",
       "    <tr>\n",
       "      <th>6369</th>\n",
       "      <td>0</td>\n",
       "      <td>0</td>\n",
       "      <td>40.45724</td>\n",
       "      <td>-3.67688</td>\n",
       "      <td>0</td>\n",
       "      <td>60</td>\n",
       "      <td>1</td>\n",
       "      <td>78</td>\n",
       "      <td>0.58</td>\n",
       "      <td>1</td>\n",
       "      <td>180</td>\n",
       "    </tr>\n",
       "  </tbody>\n",
       "</table>\n",
       "</div>"
      ],
      "text/plain": [
       "      neighbourhood_group  neighbourhood  latitude  longitude  room_type  \\\n",
       "id                                                                         \n",
       "6369                    0              0  40.45724   -3.67688          0   \n",
       "\n",
       "      price  minimum_nights  number_of_reviews  reviews_per_month  \\\n",
       "id                                                                  \n",
       "6369     60               1                 78               0.58   \n",
       "\n",
       "      calculated_host_listings_count  availability_365  \n",
       "id                                                      \n",
       "6369                               1               180  "
      ]
     },
     "execution_count": 51,
     "metadata": {},
     "output_type": "execute_result"
    }
   ],
   "source": [
    "df = df.dropna()\n",
    "df.head(1)"
   ]
  },
  {
   "cell_type": "code",
   "execution_count": 52,
   "metadata": {},
   "outputs": [
    {
     "name": "stdout",
     "output_type": "stream",
     "text": [
      "                           feature           VIF\n",
      "0              neighbourhood_group      4.115630\n",
      "1                    neighbourhood      2.857499\n",
      "2                         latitude  21500.341869\n",
      "3                        longitude  21346.279630\n",
      "4                        room_type      2.784046\n",
      "5                            price      1.061918\n",
      "6                   minimum_nights      1.033561\n",
      "7                number_of_reviews      4.396351\n",
      "8                reviews_per_month      5.414850\n",
      "9   calculated_host_listings_count      1.277026\n",
      "10                availability_365      2.250690\n"
     ]
    }
   ],
   "source": [
    "# Correlación e info de todas las variables\n",
    "# VIF dataframe\n",
    "\n",
    "vif_data = pd.DataFrame()\n",
    "vif_data[\"feature\"] = df.columns\n",
    "# calculating VIF for each feature\n",
    "vif_data[\"VIF\"] = [variance_inflation_factor(df.values, i)\n",
    "                         for i in range(len(df.columns))]\n",
    "\n",
    "print(vif_data)"
   ]
  },
  {
   "cell_type": "code",
   "execution_count": 53,
   "metadata": {},
   "outputs": [
    {
     "name": "stdout",
     "output_type": "stream",
     "text": [
      "                                 OLS Regression Results                                \n",
      "=======================================================================================\n",
      "Dep. Variable:                  price   R-squared (uncentered):                   0.058\n",
      "Model:                            OLS   Adj. R-squared (uncentered):              0.058\n",
      "Method:                 Least Squares   F-statistic:                              86.51\n",
      "Date:                Mon, 08 Nov 2021   Prob (F-statistic):                   6.38e-174\n",
      "Time:                        16:32:02   Log-Likelihood:                     -1.0657e+05\n",
      "No. Observations:               13981   AIC:                                  2.132e+05\n",
      "Df Residuals:                   13971   BIC:                                  2.132e+05\n",
      "Df Model:                          10                                                  \n",
      "Covariance Type:            nonrobust                                                  \n",
      "==================================================================================================\n",
      "                                     coef    std err          t      P>|t|      [0.025      0.975]\n",
      "--------------------------------------------------------------------------------------------------\n",
      "neighbourhood_group                0.2871      1.193      0.241      0.810      -2.051       2.626\n",
      "neighbourhood                     -0.1860      0.168     -1.107      0.268      -0.515       0.143\n",
      "latitude                          -4.4165     15.172     -0.291      0.771     -34.156      25.323\n",
      "longitude                        -68.0893    165.369     -0.412      0.681    -392.235     256.056\n",
      "room_type                         93.8278      8.046     11.661      0.000      78.056     109.600\n",
      "minimum_nights                     0.0672      0.128      0.525      0.599      -0.183       0.318\n",
      "number_of_reviews                  0.5192      0.104      5.014      0.000       0.316       0.722\n",
      "reviews_per_month                -26.1703      5.536     -4.727      0.000     -37.022     -15.318\n",
      "calculated_host_listings_count    -0.0418      0.220     -0.189      0.850      -0.474       0.390\n",
      "availability_365                  -0.1110      0.030     -3.711      0.000      -0.170      -0.052\n",
      "==============================================================================\n",
      "Omnibus:                    28145.480   Durbin-Watson:                   1.876\n",
      "Prob(Omnibus):                  0.000   Jarque-Bera (JB):         54572046.665\n",
      "Skew:                          16.894   Prob(JB):                         0.00\n",
      "Kurtosis:                     307.200   Cond. No.                     8.61e+03\n",
      "==============================================================================\n",
      "\n",
      "Notes:\n",
      "[1] R² is computed without centering (uncentered) since the model does not contain a constant.\n",
      "[2] Standard Errors assume that the covariance matrix of the errors is correctly specified.\n",
      "[3] The condition number is large, 8.61e+03. This might indicate that there are\n",
      "strong multicollinearity or other numerical problems.\n"
     ]
    }
   ],
   "source": [
    "# debemos dropear latitude y longitud (O escalar?)\n",
    "# Debemos dropear la que peor p-valor tenga y para ello, usamos un modelo temporal\n",
    "\n",
    "mod = sm.OLS(df.dropna().price, df.dropna().drop(['price'], axis = 1))\n",
    "res = mod.fit()\n",
    "print(res.summary())"
   ]
  },
  {
   "cell_type": "code",
   "execution_count": 54,
   "metadata": {},
   "outputs": [],
   "source": [
    "# dropeamos las siguientes variables\n",
    "df = df.drop(['neighbourhood_group', 'longitude', 'calculated_host_listings_count'], axis=1)"
   ]
  },
  {
   "cell_type": "code",
   "execution_count": 55,
   "metadata": {},
   "outputs": [
    {
     "name": "stdout",
     "output_type": "stream",
     "text": [
      "La longitud de instancias X_train: 9786\n",
      "La longitud de instancias X_test: 4195\n",
      "\n",
      "La longitud de instancias y_train: 9786\n",
      "La longitud de instancias y_test: 4195\n",
      "\n",
      "Todo correcto\n"
     ]
    }
   ],
   "source": [
    "# Separamos en train y test con k=30%\n",
    "\n",
    "X = df.drop(['price'], axis = 1)\n",
    "y = df['price']\n",
    "X_train, X_test, y_train, y_test = train_test_split(X, y ,test_size = 0.3, random_state = 123)\n",
    "\n",
    "print('La longitud de instancias X_train: ' + str(len(X_train)) + '\\nLa longitud de instancias X_test: ' + str(len(X_test)) + '\\n')\n",
    "print('La longitud de instancias y_train: ' + str(len(y_train)) + '\\nLa longitud de instancias y_test: ' + str(len(y_test)) + '\\n')\n",
    "\n",
    "if((len(X_train) == len(y_train)) & (len(X_test) == len(y_test))):\n",
    "    print(\"Todo correcto\")"
   ]
  },
  {
   "cell_type": "code",
   "execution_count": 56,
   "metadata": {},
   "outputs": [
    {
     "name": "stdout",
     "output_type": "stream",
     "text": [
      "coefficient of determination: 0.014032371423794987\n",
      "intercept: 26414.216873124766\n",
      "slope: [-1.65401507e-01 -6.51713819e+02  9.51726687e+01 -6.87338410e-02\n",
      "  4.59092231e-01 -2.48062168e+01 -1.03595603e-01]\n",
      "Mean squared error: 257050.56\n",
      "Coefficient of determination: 0.01\n"
     ]
    }
   ],
   "source": [
    "# Modelo de regresion lineal\n",
    "\n",
    "model = LinearRegression()\n",
    "model.fit(X_train, y_train)\n",
    "\n",
    "print('coefficient of determination:', model.score(X_train, y_train))\n",
    "print('intercept:', model.intercept_)\n",
    "print('slope:', model.coef_)\n",
    "\n",
    "y_pred = model.predict(X_test)\n",
    "\n",
    "print(\"Mean squared error: %.2f\" % mean_squared_error(y_test, y_pred))\n",
    "print(\"Coefficient of determination: %.2f\" % r2_score(y_test, y_pred))"
   ]
  },
  {
   "cell_type": "markdown",
   "metadata": {},
   "source": [
    "Podemos concluir que el dataframe que estamos utilizando incluye muy poca informacion"
   ]
  }
 ],
 "metadata": {
  "interpreter": {
   "hash": "aee8b7b246df8f9039afb4144a1f6fd8d2ca17a180786b69acc140d282b71a49"
  },
  "kernelspec": {
   "display_name": "Python 3",
   "language": "python",
   "name": "python3"
  },
  "language_info": {
   "codemirror_mode": {
    "name": "ipython",
    "version": 3
   },
   "file_extension": ".py",
   "mimetype": "text/x-python",
   "name": "python",
   "nbconvert_exporter": "python",
   "pygments_lexer": "ipython3",
   "version": "3.9.5"
  }
 },
 "nbformat": 4,
 "nbformat_minor": 2
}
